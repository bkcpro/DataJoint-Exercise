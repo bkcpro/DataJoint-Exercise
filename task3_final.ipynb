{
 "cells": [
  {
   "cell_type": "markdown",
   "metadata": {},
   "source": [
    "# An example of a typical data pipeline in neuroscience"
   ]
  },
  {
   "cell_type": "code",
   "execution_count": 1,
   "metadata": {},
   "outputs": [],
   "source": [
    "import datajoint as dj\n",
    "import numpy as np\n",
    "import pylab as pl\n",
    "import scipy.optimize as opt\n",
    "import scipy as sc\n",
    "\n",
    "from scipy.special import factorial\n",
    "from scipy import stats\n",
    "\n",
    "%matplotlib inline"
   ]
  },
  {
   "cell_type": "markdown",
   "metadata": {},
   "source": [
    "## 1) Defining schema and relational structure"
   ]
  },
  {
   "cell_type": "code",
   "execution_count": 2,
   "metadata": {},
   "outputs": [
    {
     "name": "stdout",
     "output_type": "stream",
     "text": [
      "Please enter DataJoint username: root\n",
      "Please enter DataJoint password: ········\n",
      "Connecting root@localhost:3306\n"
     ]
    },
    {
     "data": {
      "text/plain": [
       "DataJoint connection (connected) root@localhost:3306"
      ]
     },
     "execution_count": 2,
     "metadata": {},
     "output_type": "execute_result"
    }
   ],
   "source": [
    "dj.conn()"
   ]
  },
  {
   "cell_type": "code",
   "execution_count": 3,
   "metadata": {},
   "outputs": [],
   "source": [
    "schema = dj.schema('manual_test')"
   ]
  },
  {
   "cell_type": "code",
   "execution_count": 4,
   "metadata": {},
   "outputs": [],
   "source": [
    "@schema\n",
    "class User(dj.Lookup):\n",
    "    definition = \"\"\"\n",
    "    #User information\n",
    "    user: varchar(20)         #Username\n",
    "    ---\n",
    "    first_name : varchar(20)  #User's first name\n",
    "    last_name : varchar(20)   #User's last name\n",
    "    \"\"\"\n",
    "    \n",
    "@schema\n",
    "class Experiment(dj.Manual):\n",
    "    definition = \"\"\" \n",
    "    #Experiment\n",
    "    -> User\n",
    "    experiment : int          #Experiment number\n",
    "    \"\"\"\n",
    "\n",
    "@schema\n",
    "class Set(dj.Imported):\n",
    "    definition = \"\"\"\n",
    "    #A set of data\n",
    "    -> Experiment             \n",
    "    -----\n",
    "    vtrace        : longblob         #Voltage values sampled over 50mus\n",
    "    spike_times    : longblob         #Spiketimes\n",
    "    spike_voltages : longblob         #SpikeVoltages\n",
    "    \"\"\"\n",
    "    \n",
    "    def _make_tuples(self, key):\n",
    "        data_file = np.loadtxt(('./data/{user}_experiment_{experiment}.dat').format(**key))\n",
    "        vtrace = key['vtrace'] = data_file\n",
    "        \n",
    "#         print(data_file)\n",
    "\n",
    "        tbins = np.arange(0, 60, 0.00005)\n",
    "        threshold = -5 * np.std(vtrace)\n",
    "\n",
    "        above = (vtrace < threshold)\n",
    "        spikes = above[1:] < above[0:-1]\n",
    "\n",
    "        key['spike_times'] = tbins[np.where(spikes)]\n",
    "        key['spike_voltages'] = vtrace[np.where(spikes)]\n",
    "        self.insert1(key)"
   ]
  },
  {
   "cell_type": "code",
   "execution_count": 5,
   "metadata": {},
   "outputs": [
    {
     "data": {
      "image/svg+xml": [
       "<svg height=\"247pt\" viewBox=\"0.00 0.00 330.00 247.00\" width=\"330pt\" xmlns=\"http://www.w3.org/2000/svg\" xmlns:xlink=\"http://www.w3.org/1999/xlink\">\n",
       "<g class=\"graph\" id=\"graph0\" transform=\"scale(1 1) rotate(0) translate(4 243)\">\n",
       "<title>%3</title>\n",
       "<polygon fill=\"white\" points=\"-4,4 -4,-243 326,-243 326,4 -4,4\" stroke=\"none\"/>\n",
       "<!-- `manual_test`.`__gausian` -->\n",
       "<g class=\"node\" id=\"node1\"><title>`manual_test`.`__gausian`</title>\n",
       "<ellipse cx=\"76\" cy=\"-13\" fill=\"#ff0000\" fill-opacity=\"0.125490\" rx=\"13\" ry=\"13\" stroke=\"#ff0000\" stroke-opacity=\"0.125490\"/>\n",
       "<text fill=\"#7f0000\" font-family=\"arial\" font-size=\"12.00\" text-anchor=\"middle\" x=\"76\" y=\"-9.9\">`manual_test`.`__gausian`</text>\n",
       "</g>\n",
       "<!-- `manual_test`.`__poisson` -->\n",
       "<g class=\"node\" id=\"node2\"><title>`manual_test`.`__poisson`</title>\n",
       "<ellipse cx=\"246\" cy=\"-13\" fill=\"#ff0000\" fill-opacity=\"0.125490\" rx=\"13\" ry=\"13\" stroke=\"#ff0000\" stroke-opacity=\"0.125490\"/>\n",
       "<text fill=\"#7f0000\" font-family=\"arial\" font-size=\"12.00\" text-anchor=\"middle\" x=\"246\" y=\"-9.9\">`manual_test`.`__poisson`</text>\n",
       "</g>\n",
       "<!-- User -->\n",
       "<g class=\"node\" id=\"node3\"><title>User</title>\n",
       "<g id=\"a_node3\"><a xlink:title=\"user                 \r",
       "------------------------------\r",
       "first_name           \r",
       "last_name            \r",
       "\">\n",
       "<polygon fill=\"#000000\" fill-opacity=\"0.125490\" points=\"179.5,-239 142.5,-239 142.5,-204 179.5,-204 179.5,-239\" stroke=\"none\"/>\n",
       "<text font-family=\"arial\" font-size=\"10.00\" text-anchor=\"start\" text-decoration=\"underline\" x=\"150.5\" y=\"-220\">User</text>\n",
       "</a>\n",
       "</g>\n",
       "</g>\n",
       "<!-- Experiment -->\n",
       "<g class=\"node\" id=\"node4\"><title>Experiment</title>\n",
       "<g id=\"a_node4\"><a xlink:title=\"→ User\r",
       "experiment           \r",
       "\">\n",
       "<polygon fill=\"#00ff00\" fill-opacity=\"0.188235\" points=\"199,-168 123,-168 123,-133 199,-133 199,-168\" stroke=\"#00ff00\" stroke-opacity=\"0.188235\"/>\n",
       "<text fill=\"darkgreen\" font-family=\"arial\" font-size=\"12.00\" text-anchor=\"start\" text-decoration=\"underline\" x=\"131\" y=\"-148.4\">Experiment</text>\n",
       "</a>\n",
       "</g>\n",
       "</g>\n",
       "<!-- User&#45;&gt;Experiment -->\n",
       "<g class=\"edge\" id=\"edge1\"><title>User-&gt;Experiment</title>\n",
       "<path d=\"M161,-203.797C161,-192.949 161,-178.867 161,-168.049\" fill=\"none\" stroke=\"#000000\" stroke-opacity=\"0.250980\" stroke-width=\"0.75\"/>\n",
       "</g>\n",
       "<!-- Set -->\n",
       "<g class=\"node\" id=\"node5\"><title>Set</title>\n",
       "<g id=\"a_node5\"><a xlink:title=\"→ Experiment\r",
       "------------------------------\r",
       "vtrace               \r",
       "spike_times          \r",
       "spike_voltages       \r",
       "\">\n",
       "<ellipse cx=\"161\" cy=\"-79.5\" fill=\"#00007f\" fill-opacity=\"0.250980\" rx=\"21.7507\" ry=\"17.5\" stroke=\"#00007f\" stroke-opacity=\"0.250980\"/>\n",
       "<text fill=\"#00007f\" font-family=\"arial\" font-size=\"12.00\" text-anchor=\"middle\" x=\"161\" y=\"-76.4\">Set</text>\n",
       "</a>\n",
       "</g>\n",
       "</g>\n",
       "<!-- Experiment&#45;&gt;Set -->\n",
       "<g class=\"edge\" id=\"edge2\"><title>Experiment-&gt;Set</title>\n",
       "<path d=\"M161,-132.797C161,-121.949 161,-107.867 161,-97.0492\" fill=\"none\" stroke=\"#000000\" stroke-opacity=\"0.250980\" stroke-width=\"2\"/>\n",
       "</g>\n",
       "<!-- Set&#45;&gt;`manual_test`.`__gausian` -->\n",
       "<g class=\"edge\" id=\"edge3\"><title>Set-&gt;`manual_test`.`__gausian`</title>\n",
       "<path d=\"M145.41,-66.6697C128.156,-53.5771 100.85,-32.8569 86.158,-21.7081\" fill=\"none\" stroke=\"#000000\" stroke-opacity=\"0.250980\" stroke-width=\"2\"/>\n",
       "</g>\n",
       "<!-- Set&#45;&gt;`manual_test`.`__poisson` -->\n",
       "<g class=\"edge\" id=\"edge4\"><title>Set-&gt;`manual_test`.`__poisson`</title>\n",
       "<path d=\"M176.59,-66.6697C193.844,-53.5771 221.15,-32.8569 235.842,-21.7081\" fill=\"none\" stroke=\"#000000\" stroke-opacity=\"0.250980\" stroke-width=\"2\"/>\n",
       "</g>\n",
       "</g>\n",
       "</svg>"
      ],
      "text/plain": [
       "<datajoint.erd.ERD at 0x1ede2555588>"
      ]
     },
     "execution_count": 5,
     "metadata": {},
     "output_type": "execute_result"
    }
   ],
   "source": [
    "dj.ERD(schema)"
   ]
  },
  {
   "cell_type": "markdown",
   "metadata": {},
   "source": [
    "To insert entries into the \"User\" table manually:"
   ]
  },
  {
   "cell_type": "code",
   "execution_count": 6,
   "metadata": {},
   "outputs": [
    {
     "name": "stdout",
     "output_type": "stream",
     "text": [
      "Enter number of users\n"
     ]
    },
    {
     "ename": "ValueError",
     "evalue": "invalid literal for int() with base 10: ''",
     "output_type": "error",
     "traceback": [
      "\u001b[1;31m---------------------------------------------------------------------------\u001b[0m",
      "\u001b[1;31mValueError\u001b[0m                                Traceback (most recent call last)",
      "\u001b[1;32m<ipython-input-6-6e576fd4252d>\u001b[0m in \u001b[0;36m<module>\u001b[1;34m\u001b[0m\n\u001b[1;32m----> 1\u001b[1;33m \u001b[0mnum_of_users\u001b[0m \u001b[1;33m=\u001b[0m \u001b[0mint\u001b[0m\u001b[1;33m(\u001b[0m\u001b[0minput\u001b[0m\u001b[1;33m(\u001b[0m\u001b[1;34m'Enter number of users'\u001b[0m\u001b[1;33m)\u001b[0m\u001b[1;33m)\u001b[0m\u001b[1;33m\u001b[0m\u001b[1;33m\u001b[0m\u001b[0m\n\u001b[0m\u001b[0;32m      2\u001b[0m \u001b[1;33m\u001b[0m\u001b[0m\n\u001b[0;32m      3\u001b[0m \u001b[1;32mfor\u001b[0m \u001b[0mi\u001b[0m \u001b[1;32min\u001b[0m \u001b[0mrange\u001b[0m\u001b[1;33m(\u001b[0m\u001b[0mnum_of_users\u001b[0m\u001b[1;33m)\u001b[0m\u001b[1;33m:\u001b[0m\u001b[1;33m\u001b[0m\u001b[1;33m\u001b[0m\u001b[0m\n\u001b[0;32m      4\u001b[0m     \u001b[0musername\u001b[0m \u001b[1;33m=\u001b[0m \u001b[0minput\u001b[0m\u001b[1;33m(\u001b[0m\u001b[1;34m'Enter your username'\u001b[0m\u001b[1;33m)\u001b[0m\u001b[1;33m\u001b[0m\u001b[1;33m\u001b[0m\u001b[0m\n\u001b[0;32m      5\u001b[0m     \u001b[0mfirst_name\u001b[0m \u001b[1;33m=\u001b[0m \u001b[0minput\u001b[0m\u001b[1;33m(\u001b[0m\u001b[1;34m'Enter your first name'\u001b[0m\u001b[1;33m)\u001b[0m\u001b[1;33m\u001b[0m\u001b[1;33m\u001b[0m\u001b[0m\n",
      "\u001b[1;31mValueError\u001b[0m: invalid literal for int() with base 10: ''"
     ]
    }
   ],
   "source": [
    "num_of_users = int(input('Enter number of users'))\n",
    "\n",
    "for i in range(num_of_users):\n",
    "    username = input('Enter your username')\n",
    "    first_name = input('Enter your first name')\n",
    "    last_name = input('Enter your last name')\n",
    "    User.insert1(dict(user=username, first_name=first_name, last_name=last_name))"
   ]
  },
  {
   "cell_type": "markdown",
   "metadata": {},
   "source": [
    "Testing:"
   ]
  },
  {
   "cell_type": "code",
   "execution_count": 7,
   "metadata": {},
   "outputs": [
    {
     "data": {
      "text/html": [
       "\n",
       "        \n",
       "        <style type=\"text/css\">\n",
       "            .Relation{\n",
       "                border-collapse:collapse;\n",
       "            }\n",
       "            .Relation th{\n",
       "                background: #A0A0A0; color: #ffffff; padding:4px; border:#f0e0e0 1px solid;\n",
       "                font-weight: normal; font-family: monospace; font-size: 100%;\n",
       "            }\n",
       "            .Relation td{\n",
       "                padding:4px; border:#f0e0e0 1px solid; font-size:100%;\n",
       "            }\n",
       "            .Relation tr:nth-child(odd){\n",
       "                background: #ffffff;\n",
       "            }\n",
       "            .Relation tr:nth-child(even){\n",
       "                background: #f3f1ff;\n",
       "            }\n",
       "            /* Tooltip container */\n",
       "            .djtooltip {\n",
       "            }\n",
       "            /* Tooltip text */\n",
       "            .djtooltip .djtooltiptext {\n",
       "                visibility: hidden;\n",
       "                width: 120px;\n",
       "                background-color: black;\n",
       "                color: #fff;\n",
       "                text-align: center;\n",
       "                padding: 5px 0;\n",
       "                border-radius: 6px;\n",
       "                /* Position the tooltip text - see examples below! */\n",
       "                position: absolute;\n",
       "                z-index: 1;\n",
       "            }\n",
       "            #primary {\n",
       "                font-weight: bold;\n",
       "                color: black;\n",
       "            }\n",
       "\n",
       "            #nonprimary {\n",
       "                font-weight: normal;\n",
       "                color: white;\n",
       "            }\n",
       "\n",
       "            /* Show the tooltip text when you mouse over the tooltip container */\n",
       "            .djtooltip:hover .djtooltiptext {\n",
       "                visibility: visible;\n",
       "            }\n",
       "        </style>\n",
       "        \n",
       "        <b>User information</b>\n",
       "            <div style=\"max-height:1000px;max-width:1500px;overflow:auto;\">\n",
       "            <table border=\"1\" class=\"Relation\">\n",
       "                <thead> <tr style=\"text-align: right;\"> <th> <div class=\"djtooltip\">\n",
       "                                <p id=\"primary\">user</p>\n",
       "                                <span class=\"djtooltiptext\">username</span>\n",
       "                            </div></th><th><div class=\"djtooltip\">\n",
       "                                <p id=\"nonprimary\">first_name</p>\n",
       "                                <span class=\"djtooltiptext\">user first name</span>\n",
       "                            </div></th><th><div class=\"djtooltip\">\n",
       "                                <p id=\"nonprimary\">last_name</p>\n",
       "                                <span class=\"djtooltiptext\">user last name</span>\n",
       "                            </div> </th> </tr> </thead>\n",
       "                <tbody> <tr> <td>Angus</td>\n",
       "<td>Angus</td>\n",
       "<td>Macguyver</td></tr><tr><td>John</td>\n",
       "<td>John</td>\n",
       "<td>Doe</td></tr><tr><td>user2_manual</td>\n",
       "<td>John</td>\n",
       "<td>Tparty</td> </tr> </tbody>\n",
       "            </table>\n",
       "            \n",
       "            <p>Total: 3</p></div>\n",
       "            "
      ],
      "text/plain": [
       "*user          first_name     last_name    \n",
       "+------------+ +------------+ +-----------+\n",
       "Angus          Angus          Macguyver    \n",
       "John           John           Doe          \n",
       "user2_manual   John           Tparty       \n",
       " (Total: 3)"
      ]
     },
     "execution_count": 7,
     "metadata": {},
     "output_type": "execute_result"
    }
   ],
   "source": [
    "# Delete entries\n",
    "# (User() & 'user=\"user2_manual\"').delete()\n",
    "# type(User.fetch('last_name')[0])\n",
    "User()"
   ]
  },
  {
   "cell_type": "markdown",
   "metadata": {},
   "source": [
    "Enter the number of experiments for each user:\n"
   ]
  },
  {
   "cell_type": "code",
   "execution_count": null,
   "metadata": {},
   "outputs": [],
   "source": [
    "user_array = User().fetch('user')\n",
    "\n",
    "for i in range(user_array.size):\n",
    "    num_of_experiments = int(input('Enter the number of experiments: %s' % user_array[i]))\n",
    "    for j in range(num_of_experiments):\n",
    "    Experiment.insert1([user_array[i], j], skip_duplicates = True)"
   ]
  },
  {
   "cell_type": "markdown",
   "metadata": {},
   "source": [
    "Testing:"
   ]
  },
  {
   "cell_type": "code",
   "execution_count": 8,
   "metadata": {},
   "outputs": [
    {
     "name": "stdout",
     "output_type": "stream",
     "text": [
      "Spike times for experiment #1:\n",
      "[ 0.03765  0.36665  0.3674   0.75905  1.38585  1.38655  1.529    2.4852\n",
      "  3.03125  4.14095  4.14115  4.1418   4.681    4.68165  4.8407   4.9478\n",
      "  5.3194   5.3201   5.7493   5.75     6.27965  7.2411   7.24185  7.8001\n",
      "  7.80075  9.2389   9.56995  9.6104   9.7667   9.78025 10.1078  10.8707\n",
      " 10.9518  10.95245 11.5262  11.52695 13.7053  13.71505 14.39185 14.3926\n",
      " 14.72445 14.7252  15.49325 15.494   15.5317  15.74075 16.03255 16.29925\n",
      " 16.65905 17.1305  17.1312 ]\n",
      "\n",
      "\n",
      "Spike times for experiment #2:\n",
      "[ 0.1633   0.16395  1.91675  1.91745  2.0804   2.1637   2.16435  2.9311\n",
      "  3.4042   4.0434   4.08705  4.4291   4.4298   4.6126   4.6133   4.92135\n",
      "  5.22765  5.67245  6.1407   6.1413   6.14545  6.38525  6.386    6.9266\n",
      "  6.92715  7.2594   7.55235  7.55305  7.5612   7.56185  8.1486   8.1494\n",
      "  8.4111   8.63615  8.63685  9.51335  9.51405  9.52475  9.659    9.75995\n",
      " 10.2294  10.41245 10.4792  11.33015 11.3891  12.19865 12.481   12.75555\n",
      " 13.3334  13.46405 13.4648 ]\n",
      "\n",
      "\n",
      "Spike times for experiment #3:\n",
      "[ 0.35235  0.624    1.048    1.0588   1.4528   1.89415  2.14125  2.2953\n",
      "  2.29575  3.55     4.034    4.42855  4.4291   4.6542   4.73525  4.98845\n",
      "  5.08925  5.08975  5.12325  5.23255  5.23305  6.2126   7.53175  8.2641\n",
      "  8.7131   9.2341   9.73185  9.7323   9.8408   9.86925 10.5881  10.77485\n",
      " 11.0147  11.25105 12.14825 12.1488  12.5503  12.58565 12.65125 12.9072\n",
      " 13.05715 13.0577  13.59875 13.69755 13.71585 13.7163  13.71735 13.8806\n",
      " 14.02495 14.6764  15.0417 ]\n",
      "\n",
      "\n",
      "Spike times for experiment #4:\n",
      "[ 0.5015   0.82835  2.1179   2.132    2.13245  2.702    2.9924   3.081\n",
      "  3.1496   3.9437   4.2362   4.23695  5.25835  5.41485  5.8004   6.11345\n",
      "  6.69005  6.8163   6.81685  6.98245  7.4376   7.4525   7.91205  8.12865\n",
      "  8.12915  8.1924   8.2505   9.18755  9.40765  9.99045  9.99095 10.4186\n",
      " 10.60725 10.92365 11.3346  11.3351  11.3531  11.67975 11.78865 12.05075\n",
      " 12.38705 12.3875  13.0269  13.6809  14.0894  14.39115 15.3451  15.3456\n",
      " 15.38    16.0874  16.7192 ]\n",
      "\n",
      "\n",
      "Spike times for experiment #5:\n",
      "[]\n",
      "\n",
      "\n",
      "Spike times for experiment #6:\n",
      "[ 0.05495  0.6057   0.6063   0.8704   0.871    1.29045  1.61935  1.81705\n",
      "  1.8177   4.21275  4.21355  4.24655  4.97845  5.82545  5.86005  5.8607\n",
      "  5.8642   7.00645  7.0592   7.14275  7.1434   7.2219   7.29195  7.3294\n",
      "  7.4711   7.616    8.08905  8.1434   8.14405  8.22125  8.4163   9.1457\n",
      "  9.478    9.566   10.0783  10.51565 10.88095 12.5287  13.03645 13.06805\n",
      " 13.45965 14.1187  14.20045 14.35405 14.39725 14.9267  17.19635 18.34505\n",
      " 18.34935 19.5914  19.6665 ]\n",
      "\n",
      "\n",
      "Spike times for experiment #7:\n",
      "[ 0.0555   0.20425  0.29645  0.3431   0.414    0.4145   0.85505  0.97095\n",
      "  0.9715   1.04765  1.09695  1.7503   2.71475  2.7152   3.75745  4.07395\n",
      "  4.85585  4.8563   5.1472   5.70995  5.9111   5.979    6.052    6.715\n",
      "  6.7739   6.9595   7.75485  7.7553   7.8095   7.82545  8.255    8.74595\n",
      "  9.96775 10.0645  11.00865 11.3981  12.2127  12.26325 12.5061  13.1121\n",
      " 13.32305 13.37545 13.45505 13.649   13.64945 13.8264  14.31495 14.3282\n",
      " 14.9564  15.18355 15.18365]\n",
      "\n",
      "\n",
      "Spike times for experiment #8:\n",
      "[ 0.1628   1.1112   1.7393   1.87615  1.87665  1.9386   3.1563   3.4982\n",
      "  3.8597   3.9959   4.02545  4.0863   4.97955  4.9801   5.1143   5.98845\n",
      "  6.3672   6.3678   6.89035  7.1243   7.12505  7.3759   7.51325  7.93045\n",
      "  8.28365  8.2843   8.5918   8.5924   8.63795  8.63845  9.0024   9.38965\n",
      " 10.42725 10.728   12.36345 12.36405 13.1515  13.15205 13.4821  13.89915\n",
      " 14.11255 14.11305 14.38315 14.445   14.51565 14.805   14.8266  14.8569\n",
      " 14.85745 15.82645 16.26355]\n",
      "\n",
      "\n"
     ]
    }
   ],
   "source": [
    "Experiment()\n",
    "Set().populate()\n",
    "\n",
    "matches = (Set() & 'experiment>-1').fetch('spike_times')\n",
    "for i in range(Experiment.fetch('experiment').size):\n",
    "    print('Spike times for experiment #%d:'%(i+1))\n",
    "    print(matches[i][0:51])\n",
    "    print('\\n')"
   ]
  },
  {
   "cell_type": "markdown",
   "metadata": {},
   "source": [
    "## 2) Loading and plotting the data"
   ]
  },
  {
   "cell_type": "markdown",
   "metadata": {},
   "source": [
    "First, we have to load the data from a directory. This specific file contains voltage values as function of time. What is measured is the volFirst, we have to load the data from a directory. This specific file contains voltage values as function of time. What is measured is the voltage value close to an electrically active cells, a brain cell, as a function of time. The data format is raw text and the sampling is done at 50 mus per voltage value \n",
    "\n",
    "__Update__: The vtrace data is being fetched from the databasetage value close to an electrically active cells, a brain cell, as a function of time. The data format is raw text and the sampling is done at 50 mus per voltage value"
   ]
  },
  {
   "cell_type": "code",
   "execution_count": 10,
   "metadata": {},
   "outputs": [
    {
     "data": {
      "text/plain": [
       "<matplotlib.legend.Legend at 0x1ede2618668>"
      ]
     },
     "execution_count": 10,
     "metadata": {},
     "output_type": "execute_result"
    },
    {
     "data": {
      "image/png": "[encoded data removed]",
      "text/plain": [
       "<Figure size 432x288 with 1 Axes>"
      ]
     },
     "metadata": {
      "needs_background": "light"
     },
     "output_type": "display_data"
    }
   ],
   "source": [
    "Vtrace = (Set() & 'user=\"john\"' & 'experiment = \"0\"').fetch('vtrace')[0] # './data/john_experiment_0.dat'\n",
    "tbins = np.arange(0, 60, 0.00005) # 1 min recording with 50mu s sampling\n",
    "\n",
    "pl.plot(tbins[0:100000], Vtrace[0:100000], label = 'V trace')\n",
    "threshold = -5 * np.std(Vtrace)\n",
    "\n",
    "pl.plot(tbins[0:100000], np.ones(100000)*threshold, '--r', label = 'Threshold')\n",
    "pl.xlabel('Time (s)')\n",
    "pl.ylabel('Voltage (mV)')\n",
    "pl.legend()"
   ]
  },
  {
   "cell_type": "markdown",
   "metadata": {},
   "source": [
    "The data shows a measurement of a voltage as function of time. In addition to a noisy baseline, there are sharp peaks visible. These so-called spikes constitute the fundamental unit of electrical activity of nerve cells. The rest of this notebook is concerned with the extraction and analysis of these spikes.\n"
   ]
  },
  {
   "cell_type": "markdown",
   "metadata": {},
   "source": [
    "## 3) Extractig spikes: the central object in the dataset"
   ]
  },
  {
   "cell_type": "markdown",
   "metadata": {},
   "source": [
    "The simplest method to identify spikes in a dataset is thresholding the numbers, and identifying the timepoints where the voltage exceeded some threshold. Here is is set to -40, but this number can be found automatically, e.g. by setting it to -np.std(Vtrace)."
   ]
  },
  {
   "cell_type": "code",
   "execution_count": 11,
   "metadata": {
    "scrolled": true
   },
   "outputs": [
    {
     "data": {
      "text/plain": [
       "Text(0, 0.5, 'Voltage (mV)')"
      ]
     },
     "execution_count": 11,
     "metadata": {},
     "output_type": "execute_result"
    },
    {
     "data": {
      "image/png": "[encoded data removed]",
      "text/plain": [
       "<Figure size 432x288 with 1 Axes>"
      ]
     },
     "metadata": {
      "needs_background": "light"
     },
     "output_type": "display_data"
    }
   ],
   "source": [
    "spikeTimes = (Set() & 'user=\"john\"' & 'experiment = \"0\"').fetch('spike_times')[0]\n",
    "spikeVoltages = (Set() & 'user=\"john\"' & 'experiment = \"0\"').fetch('spike_voltages')[0]\n",
    "\n",
    "pl.plot(tbins, Vtrace, spikeTimes, spikeVoltages, 'xr')\n",
    "pl.xlim([2.985, 3.0])\n",
    "pl.xlabel('Time (s)')\n",
    "pl.ylabel('Voltage (mV)')"
   ]
  },
  {
   "cell_type": "markdown",
   "metadata": {},
   "source": [
    "The plot shows a typical spike: a short biphasic voltage pulse about 2ms long.\n",
    "\n",
    "Now that the spiketimes [i.e. the times when a spike occured] have been saved, we can study some of their statistical properties."
   ]
  },
  {
   "cell_type": "markdown",
   "metadata": {},
   "source": [
    "## 4) Spike time analysis"
   ]
  },
  {
   "cell_type": "markdown",
   "metadata": {},
   "source": [
    "Gausian fit:"
   ]
  },
  {
   "cell_type": "code",
   "execution_count": 12,
   "metadata": {},
   "outputs": [],
   "source": [
    "@schema\n",
    "class Gausian(dj.Computed):\n",
    "    definition = \"\"\"\n",
    "    ->Set\n",
    "    -----\n",
    "    datafitted: longblob   \n",
    "    \"\"\"\n",
    "\n",
    "    def normpdf(x, mu, sd, denom):\n",
    "        num = np.exp(-(x-mu)**2/(2*sd*sd))\n",
    "        return num/denom\n",
    "\n",
    "    def _make_tuples(self, key):\n",
    "        spikeTimes = (Set() & 'user=\"john\"' & 'experiment = \"0\"').fetch('spike_times')[0]\n",
    "        ISI = np.diff(spikeTimes)\n",
    "\n",
    "        ISIhist = pl.hist(ISI*1000, 30)\n",
    "        probabilities = ISIhist[0]/np.sum(ISIhist[0])\n",
    "        distance_between_spikes = ISIhist[1][:-1]\n",
    "\n",
    "        popt, pcov = opt.curve_fit(Gausian.normpdf, np.log(distance_between_spikes), probabilities)\n",
    "        data_fitted = Gausian.normpdf(np.log(distance_between_spikes), *popt)\n",
    "        \n",
    "        key['datafitted'] = data_fitted\n",
    "        self.insert1(key)"
   ]
  },
  {
   "cell_type": "markdown",
   "metadata": {},
   "source": [
    "Poisson fit:"
   ]
  },
  {
   "cell_type": "code",
   "execution_count": 15,
   "metadata": {},
   "outputs": [],
   "source": [
    "@schema\n",
    "class Poisson(dj.Computed):\n",
    "    definition = \"\"\"\n",
    "        ->Set\n",
    "        -----\n",
    "        datafitted: longblob\n",
    "        \"\"\"\n",
    "    \n",
    "    def poissonpdf(k, lamb):\n",
    "        return (lamb**k/factorial(k)) * np.exp(-lamb)\n",
    "\n",
    "    def _make_tuples(self, key):\n",
    "\n",
    "        # get poisson deviated random numbers\n",
    "        spikeTimes = (Set() & 'user=\"john\"' & 'experiment = \"0\"').fetch('spike_times')[0]\n",
    "\n",
    "        ISI = np.diff(spikeTimes)\n",
    "\n",
    "        # the bins should be of integer width, because poisson is an integer distribution\n",
    "        entries, bin_edges, patches = pl.hist(ISI*1000, bins=30)\n",
    "\n",
    "        # calculate binmiddles\n",
    "        bin_middles = 0.5*(bin_edges[1:] + bin_edges[:-1])\n",
    "\n",
    "        # fit with curve_fit\n",
    "        parameters, cov_matrix = opt.curve_fit(Poisson.poissonpdf, bin_middles, entries) \n",
    "\n",
    "        # plot poisson-deviation with fitted parameter\n",
    "        x_plot = np.linspace(0, 20, 1000)\n",
    "        key['datafitted'] = x_plot\n",
    "        \n",
    "        self.insert1(key)\n",
    "        pl.plot(x_plot, Poisson.poissonpdf(x_plot, *parameters), 'r-', lw=2)\n",
    "        pl.show()"
   ]
  },
  {
   "cell_type": "markdown",
   "metadata": {},
   "source": [
    "Testing Gausian:"
   ]
  },
  {
   "cell_type": "code",
   "execution_count": 16,
   "metadata": {},
   "outputs": [
    {
     "data": {
      "text/html": [
       "\n",
       "        \n",
       "        <style type=\"text/css\">\n",
       "            .Relation{\n",
       "                border-collapse:collapse;\n",
       "            }\n",
       "            .Relation th{\n",
       "                background: #A0A0A0; color: #ffffff; padding:4px; border:#f0e0e0 1px solid;\n",
       "                font-weight: normal; font-family: monospace; font-size: 100%;\n",
       "            }\n",
       "            .Relation td{\n",
       "                padding:4px; border:#f0e0e0 1px solid; font-size:100%;\n",
       "            }\n",
       "            .Relation tr:nth-child(odd){\n",
       "                background: #ffffff;\n",
       "            }\n",
       "            .Relation tr:nth-child(even){\n",
       "                background: #f3f1ff;\n",
       "            }\n",
       "            /* Tooltip container */\n",
       "            .djtooltip {\n",
       "            }\n",
       "            /* Tooltip text */\n",
       "            .djtooltip .djtooltiptext {\n",
       "                visibility: hidden;\n",
       "                width: 120px;\n",
       "                background-color: black;\n",
       "                color: #fff;\n",
       "                text-align: center;\n",
       "                padding: 5px 0;\n",
       "                border-radius: 6px;\n",
       "                /* Position the tooltip text - see examples below! */\n",
       "                position: absolute;\n",
       "                z-index: 1;\n",
       "            }\n",
       "            #primary {\n",
       "                font-weight: bold;\n",
       "                color: black;\n",
       "            }\n",
       "\n",
       "            #nonprimary {\n",
       "                font-weight: normal;\n",
       "                color: white;\n",
       "            }\n",
       "\n",
       "            /* Show the tooltip text when you mouse over the tooltip container */\n",
       "            .djtooltip:hover .djtooltiptext {\n",
       "                visibility: visible;\n",
       "            }\n",
       "        </style>\n",
       "        \n",
       "        <b></b>\n",
       "            <div style=\"max-height:1000px;max-width:1500px;overflow:auto;\">\n",
       "            <table border=\"1\" class=\"Relation\">\n",
       "                <thead> <tr style=\"text-align: right;\"> <th> <div class=\"djtooltip\">\n",
       "                                <p id=\"primary\">user</p>\n",
       "                                <span class=\"djtooltiptext\">username</span>\n",
       "                            </div></th><th><div class=\"djtooltip\">\n",
       "                                <p id=\"primary\">experiment</p>\n",
       "                                <span class=\"djtooltiptext\"></span>\n",
       "                            </div></th><th><div class=\"djtooltip\">\n",
       "                                <p id=\"nonprimary\">datafitted</p>\n",
       "                                <span class=\"djtooltiptext\"></span>\n",
       "                            </div> </th> </tr> </thead>\n",
       "                <tbody> <tr> <td>Angus</td>\n",
       "<td>0</td>\n",
       "<td>=BLOB=</td></tr><tr><td>Angus</td>\n",
       "<td>1</td>\n",
       "<td>=BLOB=</td></tr><tr><td>Angus</td>\n",
       "<td>2</td>\n",
       "<td>=BLOB=</td></tr><tr><td>John</td>\n",
       "<td>0</td>\n",
       "<td>=BLOB=</td></tr><tr><td>John</td>\n",
       "<td>1</td>\n",
       "<td>=BLOB=</td></tr><tr><td>John</td>\n",
       "<td>2</td>\n",
       "<td>=BLOB=</td></tr><tr><td>John</td>\n",
       "<td>3</td>\n",
       "<td>=BLOB=</td></tr><tr><td>John</td>\n",
       "<td>4</td>\n",
       "<td>=BLOB=</td> </tr> </tbody>\n",
       "            </table>\n",
       "            \n",
       "            <p>Total: 8</p></div>\n",
       "            "
      ],
      "text/plain": [
       "*user     *experiment    datafitted\n",
       "+-------+ +------------+ +--------+\n",
       "Angus     0              =BLOB=    \n",
       "Angus     1              =BLOB=    \n",
       "Angus     2              =BLOB=    \n",
       "John      0              =BLOB=    \n",
       "John      1              =BLOB=    \n",
       "John      2              =BLOB=    \n",
       "John      3              =BLOB=    \n",
       "John      4              =BLOB=    \n",
       " (Total: 8)"
      ]
     },
     "execution_count": 16,
     "metadata": {},
     "output_type": "execute_result"
    },
    {
     "data": {
      "image/png": "[encoded data removed]",
      "text/plain": [
       "<Figure size 432x288 with 1 Axes>"
      ]
     },
     "metadata": {
      "needs_background": "light"
     },
     "output_type": "display_data"
    }
   ],
   "source": [
    "Gausian().populate()\n",
    "Gausian()"
   ]
  },
  {
   "cell_type": "markdown",
   "metadata": {},
   "source": [
    "Testing Poisson:"
   ]
  },
  {
   "cell_type": "code",
   "execution_count": 17,
   "metadata": {},
   "outputs": [
    {
     "name": "stderr",
     "output_type": "stream",
     "text": [
      "C:\\Users\\bhrgv_knp\\Anaconda3\\lib\\site-packages\\scipy\\optimize\\minpack.py:787: OptimizeWarning: Covariance of the parameters could not be estimated\n",
      "  category=OptimizeWarning)\n"
     ]
    },
    {
     "data": {
      "image/png": "[encoded data removed]",
      "text/plain": [
       "<Figure size 432x288 with 1 Axes>"
      ]
     },
     "metadata": {
      "needs_background": "light"
     },
     "output_type": "display_data"
    },
    {
     "data": {
      "text/html": [
       "\n",
       "        \n",
       "        <style type=\"text/css\">\n",
       "            .Relation{\n",
       "                border-collapse:collapse;\n",
       "            }\n",
       "            .Relation th{\n",
       "                background: #A0A0A0; color: #ffffff; padding:4px; border:#f0e0e0 1px solid;\n",
       "                font-weight: normal; font-family: monospace; font-size: 100%;\n",
       "            }\n",
       "            .Relation td{\n",
       "                padding:4px; border:#f0e0e0 1px solid; font-size:100%;\n",
       "            }\n",
       "            .Relation tr:nth-child(odd){\n",
       "                background: #ffffff;\n",
       "            }\n",
       "            .Relation tr:nth-child(even){\n",
       "                background: #f3f1ff;\n",
       "            }\n",
       "            /* Tooltip container */\n",
       "            .djtooltip {\n",
       "            }\n",
       "            /* Tooltip text */\n",
       "            .djtooltip .djtooltiptext {\n",
       "                visibility: hidden;\n",
       "                width: 120px;\n",
       "                background-color: black;\n",
       "                color: #fff;\n",
       "                text-align: center;\n",
       "                padding: 5px 0;\n",
       "                border-radius: 6px;\n",
       "                /* Position the tooltip text - see examples below! */\n",
       "                position: absolute;\n",
       "                z-index: 1;\n",
       "            }\n",
       "            #primary {\n",
       "                font-weight: bold;\n",
       "                color: black;\n",
       "            }\n",
       "\n",
       "            #nonprimary {\n",
       "                font-weight: normal;\n",
       "                color: white;\n",
       "            }\n",
       "\n",
       "            /* Show the tooltip text when you mouse over the tooltip container */\n",
       "            .djtooltip:hover .djtooltiptext {\n",
       "                visibility: visible;\n",
       "            }\n",
       "        </style>\n",
       "        \n",
       "        <b></b>\n",
       "            <div style=\"max-height:1000px;max-width:1500px;overflow:auto;\">\n",
       "            <table border=\"1\" class=\"Relation\">\n",
       "                <thead> <tr style=\"text-align: right;\"> <th> <div class=\"djtooltip\">\n",
       "                                <p id=\"primary\">user</p>\n",
       "                                <span class=\"djtooltiptext\">username</span>\n",
       "                            </div></th><th><div class=\"djtooltip\">\n",
       "                                <p id=\"primary\">experiment</p>\n",
       "                                <span class=\"djtooltiptext\"></span>\n",
       "                            </div></th><th><div class=\"djtooltip\">\n",
       "                                <p id=\"nonprimary\">datafitted</p>\n",
       "                                <span class=\"djtooltiptext\"></span>\n",
       "                            </div> </th> </tr> </thead>\n",
       "                <tbody> <tr> <td>Angus</td>\n",
       "<td>0</td>\n",
       "<td>=BLOB=</td></tr><tr><td>Angus</td>\n",
       "<td>1</td>\n",
       "<td>=BLOB=</td></tr><tr><td>Angus</td>\n",
       "<td>2</td>\n",
       "<td>=BLOB=</td></tr><tr><td>John</td>\n",
       "<td>0</td>\n",
       "<td>=BLOB=</td></tr><tr><td>John</td>\n",
       "<td>1</td>\n",
       "<td>=BLOB=</td></tr><tr><td>John</td>\n",
       "<td>2</td>\n",
       "<td>=BLOB=</td></tr><tr><td>John</td>\n",
       "<td>3</td>\n",
       "<td>=BLOB=</td></tr><tr><td>John</td>\n",
       "<td>4</td>\n",
       "<td>=BLOB=</td> </tr> </tbody>\n",
       "            </table>\n",
       "            \n",
       "            <p>Total: 8</p></div>\n",
       "            "
      ],
      "text/plain": [
       "*user     *experiment    datafitted\n",
       "+-------+ +------------+ +--------+\n",
       "Angus     0              =BLOB=    \n",
       "Angus     1              =BLOB=    \n",
       "Angus     2              =BLOB=    \n",
       "John      0              =BLOB=    \n",
       "John      1              =BLOB=    \n",
       "John      2              =BLOB=    \n",
       "John      3              =BLOB=    \n",
       "John      4              =BLOB=    \n",
       " (Total: 8)"
      ]
     },
     "execution_count": 17,
     "metadata": {},
     "output_type": "execute_result"
    }
   ],
   "source": [
    "Poisson().populate()\n",
    "Poisson()"
   ]
  },
  {
   "cell_type": "markdown",
   "metadata": {},
   "source": [
    "This modelpipeline ends here. We have ingested the raw data, identified spikes, calculated the inter spike intervals, and fitted a model function to it. In the remaining exercise, we will translate this pipeline into one of the standard forms in neuroscience."
   ]
  },
  {
   "cell_type": "code",
   "execution_count": null,
   "metadata": {},
   "outputs": [],
   "source": []
  }
 ],
 "metadata": {
  "celltoolbar": "Raw Cell Format",
  "kernelspec": {
   "display_name": "Python 3",
   "language": "python",
   "name": "python3"
  },
  "language_info": {
   "codemirror_mode": {
    "name": "ipython",
    "version": 3
   },
   "file_extension": ".py",
   "mimetype": "text/x-python",
   "name": "python",
   "nbconvert_exporter": "python",
   "pygments_lexer": "ipython3",
   "version": "3.7.3"
  }
 },
 "nbformat": 4,
 "nbformat_minor": 2
}
